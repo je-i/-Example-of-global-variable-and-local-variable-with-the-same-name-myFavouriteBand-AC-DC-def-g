{
 "cells": [
  {
   "cell_type": "code",
   "execution_count": 3,
   "id": "9ef6a1cd-5b89-48fa-94ab-9adc1662adba",
   "metadata": {},
   "outputs": [],
   "source": [
    "#First function example: add 1 to a and store as b\n",
    "\n",
    "def add(a):\n",
    "    \"\"\"\n",
    "    add 1 to a\n",
    "    \"\"\"\n",
    "    b=a+1\n",
    "    print(a, \"if you add 1\",b)\n",
    "    return(b)"
   ]
  },
  {
   "cell_type": "code",
   "execution_count": 4,
   "id": "40859c22-cb8c-4c9f-9d61-4c31ca640b88",
   "metadata": {},
   "outputs": [
    {
     "name": "stdout",
     "output_type": "stream",
     "text": [
      "Help on function add in module __main__:\n",
      "\n",
      "add(a)\n",
      "    add 1 to a\n",
      "\n"
     ]
    }
   ],
   "source": [
    "# Get help on add function\n",
    "\n",
    "help(add)"
   ]
  },
  {
   "cell_type": "code",
   "execution_count": 5,
   "id": "2bb52f2e-4cde-4618-a4f5-3f926508c0c4",
   "metadata": {},
   "outputs": [
    {
     "name": "stdout",
     "output_type": "stream",
     "text": [
      "2 if you add 1 3\n"
     ]
    },
    {
     "data": {
      "text/plain": [
       "3"
      ]
     },
     "execution_count": 5,
     "metadata": {},
     "output_type": "execute_result"
    }
   ],
   "source": [
    "# Call the function add()\n",
    "\n",
    "add(2)"
   ]
  },
  {
   "cell_type": "code",
   "execution_count": 9,
   "id": "d511c8cd-6016-4fd9-b494-7487967cd806",
   "metadata": {},
   "outputs": [
    {
     "name": "stdout",
     "output_type": "stream",
     "text": [
      "24\n"
     ]
    }
   ],
   "source": [
    "# Define a function for multiple two numbers\n",
    "\n",
    "def mult(a,b):\n",
    "    c= a * b\n",
    "    return(c)\n",
    "    print('this is not printed')\n",
    "\n",
    "result= mult(12,2)\n",
    "print(result)"
   ]
  },
  {
   "cell_type": "code",
   "execution_count": 10,
   "id": "02c36c36-0934-4aa1-97cf-22d99e15d241",
   "metadata": {},
   "outputs": [
    {
     "data": {
      "text/plain": [
       "6"
      ]
     },
     "execution_count": 10,
     "metadata": {},
     "output_type": "execute_result"
    }
   ],
   "source": [
    "mult(2,3)"
   ]
  },
  {
   "cell_type": "code",
   "execution_count": 11,
   "id": "a75700f7-05f8-4208-84d2-af7918e80755",
   "metadata": {},
   "outputs": [
    {
     "data": {
      "text/plain": [
       "31.400000000000002"
      ]
     },
     "execution_count": 11,
     "metadata": {},
     "output_type": "execute_result"
    }
   ],
   "source": [
    "mult(10,3.14)"
   ]
  },
  {
   "cell_type": "code",
   "execution_count": 12,
   "id": "624ca0b3-2ec5-4425-8b8a-42f180c0d4de",
   "metadata": {},
   "outputs": [
    {
     "data": {
      "text/plain": [
       "'Michael JacksonMichael Jackson'"
      ]
     },
     "execution_count": 12,
     "metadata": {},
     "output_type": "execute_result"
    }
   ],
   "source": [
    "# Use mult() multiply two different type values together\n",
    "\n",
    "mult(2,\"Michael Jackson\")"
   ]
  },
  {
   "cell_type": "code",
   "execution_count": 13,
   "id": "7d2dc04e-d6d5-4f2e-9009-b3a3182a7632",
   "metadata": {},
   "outputs": [
    {
     "data": {
      "text/plain": [
       "'Michael JacksonMichael JacksonMichael JacksonMichael Jackson'"
      ]
     },
     "execution_count": 13,
     "metadata": {},
     "output_type": "execute_result"
    }
   ],
   "source": [
    "mult(4,\"Michael Jackson\")"
   ]
  },
  {
   "cell_type": "code",
   "execution_count": 14,
   "id": "177286c0-cc6f-4b3e-81a8-d56e0e511bb1",
   "metadata": {},
   "outputs": [],
   "source": [
    "# Function Definition\n",
    "\n",
    "def square(a):\n",
    "    \n",
    "    # Local variable b\n",
    "    b = 1\n",
    "    c = a * a + b\n",
    "    print(a, \"if you square + 1\", c) \n",
    "    return(c)"
   ]
  },
  {
   "cell_type": "code",
   "execution_count": 15,
   "id": "47bfe41e-427b-4f31-95cf-01435017bb94",
   "metadata": {},
   "outputs": [
    {
     "name": "stdout",
     "output_type": "stream",
     "text": [
      "3 if you square + 1 10\n"
     ]
    },
    {
     "data": {
      "text/plain": [
       "10"
      ]
     },
     "execution_count": 15,
     "metadata": {},
     "output_type": "execute_result"
    }
   ],
   "source": [
    "# Initializes Global variable  \n",
    "\n",
    "x = 3\n",
    "# Makes function call and return function a y\n",
    "y = square(x)\n",
    "y"
   ]
  },
  {
   "cell_type": "code",
   "execution_count": 16,
   "id": "0def75bb-362c-4ee6-8614-54064b688d77",
   "metadata": {},
   "outputs": [
    {
     "name": "stdout",
     "output_type": "stream",
     "text": [
      "4 if you square + 1 17\n"
     ]
    },
    {
     "data": {
      "text/plain": [
       "17"
      ]
     },
     "execution_count": 16,
     "metadata": {},
     "output_type": "execute_result"
    }
   ],
   "source": [
    "x=4\n",
    "y=square(x)\n",
    "y"
   ]
  },
  {
   "cell_type": "code",
   "execution_count": 17,
   "id": "de1ebd9d-2f86-49e8-9530-92e688b34878",
   "metadata": {},
   "outputs": [],
   "source": [
    "def square(a):\n",
    "    b=2\n",
    "    d=a*a + 2\n",
    "    print(a,\"if you add +2\",d)"
   ]
  },
  {
   "cell_type": "code",
   "execution_count": 18,
   "id": "bf7fb9d9-b263-4a24-8f85-a0a64cd938a3",
   "metadata": {},
   "outputs": [
    {
     "name": "stdout",
     "output_type": "stream",
     "text": [
      "5 if you add +2 27\n"
     ]
    }
   ],
   "source": [
    "x=5\n",
    "y=square(x)\n",
    "y"
   ]
  },
  {
   "cell_type": "code",
   "execution_count": 19,
   "id": "2975120c-f96c-4d40-a708-f3949797276a",
   "metadata": {},
   "outputs": [],
   "source": [
    "def square(a):\n",
    "    \n",
    "    # Local variable b\n",
    "    b = 1\n",
    "    c = a * a + b\n",
    "    print(a, \"if you square + 1\", c) \n",
    "    return(c)"
   ]
  },
  {
   "cell_type": "code",
   "execution_count": 20,
   "id": "9dd92421-f9b4-4124-908e-e8a1019c098c",
   "metadata": {},
   "outputs": [
    {
     "name": "stdout",
     "output_type": "stream",
     "text": [
      "4 if you square + 1 17\n"
     ]
    },
    {
     "data": {
      "text/plain": [
       "17"
      ]
     },
     "execution_count": 20,
     "metadata": {},
     "output_type": "execute_result"
    }
   ],
   "source": [
    "x=4\n",
    "y=square(x)\n",
    "y"
   ]
  },
  {
   "cell_type": "code",
   "execution_count": 21,
   "id": "7f5b94aa-793f-4551-b6b9-b7f94be9d2d6",
   "metadata": {},
   "outputs": [
    {
     "name": "stdout",
     "output_type": "stream",
     "text": [
      "2 if you square + 1 5\n"
     ]
    },
    {
     "data": {
      "text/plain": [
       "5"
      ]
     },
     "execution_count": 21,
     "metadata": {},
     "output_type": "execute_result"
    }
   ],
   "source": [
    "# Directly enter a number as parameter\n",
    "\n",
    "square(2)"
   ]
  },
  {
   "cell_type": "code",
   "execution_count": 22,
   "id": "222a489e-7e98-4ef6-b34b-b40f7dc5e265",
   "metadata": {},
   "outputs": [],
   "source": [
    "# Define functions, one with return value None and other without return value\n",
    "\n",
    "def MJ():\n",
    "    print('Michael Jackson')\n",
    "    \n",
    "def MJ1():\n",
    "    print('Michael Jackson')\n",
    "    return(None)"
   ]
  },
  {
   "cell_type": "code",
   "execution_count": 23,
   "id": "98c6cf8a-cf6e-4914-bc01-06ba2f1f174a",
   "metadata": {},
   "outputs": [],
   "source": [
    "def MJ():\n",
    "    print('Michael Jackson')"
   ]
  },
  {
   "cell_type": "code",
   "execution_count": 24,
   "id": "54b49c19-4ac6-496d-bacf-b66c1ede56cf",
   "metadata": {},
   "outputs": [],
   "source": [
    "def MJ1():\n",
    "    print('Michael Jackson')\n",
    "    return(None)"
   ]
  },
  {
   "cell_type": "code",
   "execution_count": 25,
   "id": "2396463f-743e-41ee-93c9-15924b076845",
   "metadata": {},
   "outputs": [],
   "source": [
    "# Define the function for combining strings\n",
    "\n",
    "def con(a, b):\n",
    "    return(a + b)"
   ]
  },
  {
   "cell_type": "code",
   "execution_count": 26,
   "id": "ee765a5b-4eb6-4b75-a43b-4181f6a48337",
   "metadata": {},
   "outputs": [
    {
     "data": {
      "text/plain": [
       "'This is'"
      ]
     },
     "execution_count": 26,
     "metadata": {},
     "output_type": "execute_result"
    }
   ],
   "source": [
    "# Test on the con() function\n",
    "\n",
    "con(\"This \", \"is\")"
   ]
  },
  {
   "cell_type": "code",
   "execution_count": 27,
   "id": "862b3e27-e537-4be3-9d75-07abd71a1c68",
   "metadata": {},
   "outputs": [
    {
     "data": {
      "text/plain": [
       "'thisis'"
      ]
     },
     "execution_count": 27,
     "metadata": {},
     "output_type": "execute_result"
    }
   ],
   "source": [
    "con('this','is')"
   ]
  },
  {
   "cell_type": "code",
   "execution_count": 28,
   "id": "f662cd22-5607-4c08-b148-ad6321518063",
   "metadata": {},
   "outputs": [
    {
     "ename": "SyntaxError",
     "evalue": "invalid syntax (<ipython-input-28-009438acce79>, line 1)",
     "output_type": "error",
     "traceback": [
      "\u001b[0;36m  File \u001b[0;32m\"<ipython-input-28-009438acce79>\"\u001b[0;36m, line \u001b[0;32m1\u001b[0m\n\u001b[0;31m    con(\"this\",|\"is\",\"me\")\u001b[0m\n\u001b[0m               ^\u001b[0m\n\u001b[0;31mSyntaxError\u001b[0m\u001b[0;31m:\u001b[0m invalid syntax\n"
     ]
    }
   ],
   "source": [
    "con(\"this\",|\"is\",\"me\")"
   ]
  },
  {
   "cell_type": "code",
   "execution_count": 29,
   "id": "95453857-80aa-47c4-80ad-a2ae7d209af6",
   "metadata": {},
   "outputs": [
    {
     "data": {
      "text/plain": [
       "5"
      ]
     },
     "execution_count": 29,
     "metadata": {},
     "output_type": "execute_result"
    }
   ],
   "source": [
    "# a and b calculation block1\n",
    "\n",
    "a1 = 4\n",
    "b1 = 5\n",
    "c1 = a1 + b1 + 2 * a1 * b1 - 1\n",
    "if(c1 < 0):\n",
    "    c1 = 0 \n",
    "else:\n",
    "    c1 = 5\n",
    "c1   "
   ]
  },
  {
   "cell_type": "code",
   "execution_count": 30,
   "id": "5d8040b4-73d7-4481-a9c1-dc779143c4a9",
   "metadata": {},
   "outputs": [
    {
     "data": {
      "text/plain": [
       "0"
      ]
     },
     "execution_count": 30,
     "metadata": {},
     "output_type": "execute_result"
    }
   ],
   "source": [
    "# a and b calculation block2\n",
    "\n",
    "a2 = 0\n",
    "b2 = 0\n",
    "c2 = a2 + b2 + 2 * a2 * b2 - 1\n",
    "if(c2 < 0):\n",
    "    c2 = 0 \n",
    "else:\n",
    "    c2 = 5\n",
    "c2   "
   ]
  },
  {
   "cell_type": "code",
   "execution_count": 31,
   "id": "58da6c98-8dd3-45f4-b55a-aa01a6641e6b",
   "metadata": {},
   "outputs": [
    {
     "name": "stdout",
     "output_type": "stream",
     "text": [
      "[10.0, 8.5, 9.5, 7.0, 7.0, 9.5, 9.0, 9.5]\n"
     ]
    }
   ],
   "source": [
    "# Build-in function print()\n",
    "\n",
    "album_ratings = [10.0, 8.5, 9.5, 7.0, 7.0, 9.5, 9.0, 9.5] \n",
    "print(album_ratings)"
   ]
  },
  {
   "cell_type": "code",
   "execution_count": 32,
   "id": "7ff46ea7-b2d9-4a4a-b256-b0b6dc64932e",
   "metadata": {},
   "outputs": [
    {
     "data": {
      "text/plain": [
       "70.0"
      ]
     },
     "execution_count": 32,
     "metadata": {},
     "output_type": "execute_result"
    }
   ],
   "source": [
    "sum(album_ratings)"
   ]
  },
  {
   "cell_type": "code",
   "execution_count": 33,
   "id": "8c0e5213-f870-4def-a9b4-f309533c1eb6",
   "metadata": {},
   "outputs": [
    {
     "data": {
      "text/plain": [
       "8"
      ]
     },
     "execution_count": 33,
     "metadata": {},
     "output_type": "execute_result"
    }
   ],
   "source": [
    "len(album_ratings)"
   ]
  },
  {
   "cell_type": "code",
   "execution_count": 34,
   "id": "c6962c70-6bb4-468d-8066-235e0b88d8d8",
   "metadata": {},
   "outputs": [
    {
     "name": "stdout",
     "output_type": "stream",
     "text": [
      "Michael Jackson Thriller 1980\n",
      "Oldie\n"
     ]
    }
   ],
   "source": [
    "# Function example\n",
    "\n",
    "def type_of_album(artist, album, year_released):\n",
    "    \n",
    "    print(artist, album, year_released)\n",
    "    if year_released > 1980:\n",
    "        return \"Modern\"\n",
    "    else:\n",
    "        return \"Oldie\"\n",
    "    \n",
    "x = type_of_album(\"Michael Jackson\", \"Thriller\", 1980)\n",
    "print(x)"
   ]
  },
  {
   "cell_type": "code",
   "execution_count": 35,
   "id": "0511e36a-f195-4dc8-aadf-4b4dd7c0e5dc",
   "metadata": {},
   "outputs": [],
   "source": [
    "def PrintList(the_list):\n",
    "    for element in the_list:\n",
    "        print(element)"
   ]
  },
  {
   "cell_type": "code",
   "execution_count": 36,
   "id": "70c9e506-6d48-4452-9b38-39dd55649b2b",
   "metadata": {},
   "outputs": [
    {
     "name": "stdout",
     "output_type": "stream",
     "text": [
      "1\n",
      "1\n",
      "the man\n",
      "abc\n"
     ]
    }
   ],
   "source": [
    "PrintList(['1', 1, 'the man', \"abc\"])"
   ]
  },
  {
   "cell_type": "code",
   "execution_count": 37,
   "id": "5c323ee1-f0df-4bfe-a2c8-65e98bca8004",
   "metadata": {},
   "outputs": [
    {
     "name": "stdout",
     "output_type": "stream",
     "text": [
      "Michael Jackson is an artist\n"
     ]
    }
   ],
   "source": [
    "# Example of global variable\n",
    "\n",
    "artist = \"Michael Jackson\"\n",
    "def printer1(artist):\n",
    "    internal_var1 = artist\n",
    "    print(artist, \"is an artist\")\n",
    "    \n",
    "printer1(artist)"
   ]
  },
  {
   "cell_type": "code",
   "execution_count": 38,
   "id": "c847eb70-ce21-4f2e-b6c8-95cfaf9e037a",
   "metadata": {},
   "outputs": [
    {
     "ename": "NameError",
     "evalue": "name 'internal_var1' is not defined",
     "output_type": "error",
     "traceback": [
      "\u001b[0;31m---------------------------------------------------------------------------\u001b[0m",
      "\u001b[0;31mNameError\u001b[0m                                 Traceback (most recent call last)",
      "\u001b[0;32m<ipython-input-38-a4f864806dc0>\u001b[0m in \u001b[0;36m<module>\u001b[0;34m\u001b[0m\n\u001b[0;32m----> 1\u001b[0;31m \u001b[0mprinter1\u001b[0m\u001b[0;34m(\u001b[0m\u001b[0minternal_var1\u001b[0m\u001b[0;34m)\u001b[0m\u001b[0;34m\u001b[0m\u001b[0;34m\u001b[0m\u001b[0m\n\u001b[0m",
      "\u001b[0;31mNameError\u001b[0m: name 'internal_var1' is not defined"
     ]
    }
   ],
   "source": [
    "printer1(internal_var1) "
   ]
  },
  {
   "cell_type": "code",
   "execution_count": 40,
   "id": "e536940a-37ef-471d-ae21-954eac4af0b8",
   "metadata": {},
   "outputs": [
    {
     "name": "stdout",
     "output_type": "stream",
     "text": [
      "Michael Jackson is an artist\n",
      "Whitney Houston is an artist\n"
     ]
    }
   ],
   "source": [
    "artist = \"Michael Jackson\"\n",
    "\n",
    "def printer(artist):\n",
    "    global internal_var \n",
    "    internal_var= \"Whitney Houston\"\n",
    "    print(artist,\"is an artist\")\n",
    "printer(artist) \n",
    "printer(internal_var)"
   ]
  },
  {
   "cell_type": "code",
   "execution_count": 41,
   "id": "a0531693-6c1c-43f1-ac8d-9d82606bb4f7",
   "metadata": {},
   "outputs": [],
   "source": [
    "# Example of global variable\n",
    "\n",
    "myFavouriteBand = \"AC/DC\"\n",
    "\n",
    "def getBandRating(bandname):\n",
    "    if bandname == myFavouriteBand:\n",
    "        return 10.0\n",
    "    else:\n",
    "        return 0.0"
   ]
  },
  {
   "cell_type": "code",
   "execution_count": 42,
   "id": "a833f3ad-9262-423b-b3dd-445d02e5bda4",
   "metadata": {},
   "outputs": [
    {
     "name": "stdout",
     "output_type": "stream",
     "text": [
      "AC/DC's rating is: 10.0\n",
      "Deep Purple's rating is: 0.0\n",
      "My favourite band is: AC/DC\n"
     ]
    }
   ],
   "source": [
    "print(\"AC/DC's rating is:\", getBandRating(\"AC/DC\"))\n",
    "print(\"Deep Purple's rating is:\",getBandRating(\"Deep Purple\"))\n",
    "print(\"My favourite band is:\", myFavouriteBand)"
   ]
  },
  {
   "cell_type": "code",
   "execution_count": 43,
   "id": "a5cc603f-4b20-40fe-8692-a290dc5e8998",
   "metadata": {},
   "outputs": [
    {
     "name": "stdout",
     "output_type": "stream",
     "text": [
      "AC/DC's rating is:  10.0\n",
      "Deep Purple's rating is:  0.0\n"
     ]
    },
    {
     "ename": "NameError",
     "evalue": "name 'myFavouriteBand' is not defined",
     "output_type": "error",
     "traceback": [
      "\u001b[0;31m---------------------------------------------------------------------------\u001b[0m",
      "\u001b[0;31mNameError\u001b[0m                                 Traceback (most recent call last)",
      "\u001b[0;32m<ipython-input-43-263a05334c01>\u001b[0m in \u001b[0;36m<module>\u001b[0;34m\u001b[0m\n\u001b[1;32m     14\u001b[0m \u001b[0mprint\u001b[0m\u001b[0;34m(\u001b[0m\u001b[0;34m\"AC/DC's rating is: \"\u001b[0m\u001b[0;34m,\u001b[0m \u001b[0mgetBandRating\u001b[0m\u001b[0;34m(\u001b[0m\u001b[0;34m\"AC/DC\"\u001b[0m\u001b[0;34m)\u001b[0m\u001b[0;34m)\u001b[0m\u001b[0;34m\u001b[0m\u001b[0;34m\u001b[0m\u001b[0m\n\u001b[1;32m     15\u001b[0m \u001b[0mprint\u001b[0m\u001b[0;34m(\u001b[0m\u001b[0;34m\"Deep Purple's rating is: \"\u001b[0m\u001b[0;34m,\u001b[0m \u001b[0mgetBandRating\u001b[0m\u001b[0;34m(\u001b[0m\u001b[0;34m\"Deep Purple\"\u001b[0m\u001b[0;34m)\u001b[0m\u001b[0;34m)\u001b[0m\u001b[0;34m\u001b[0m\u001b[0;34m\u001b[0m\u001b[0m\n\u001b[0;32m---> 16\u001b[0;31m \u001b[0mprint\u001b[0m\u001b[0;34m(\u001b[0m\u001b[0;34m\"My favourite band is\"\u001b[0m\u001b[0;34m,\u001b[0m \u001b[0mmyFavouriteBand\u001b[0m\u001b[0;34m)\u001b[0m\u001b[0;34m\u001b[0m\u001b[0;34m\u001b[0m\u001b[0m\n\u001b[0m",
      "\u001b[0;31mNameError\u001b[0m: name 'myFavouriteBand' is not defined"
     ]
    }
   ],
   "source": [
    "# Deleting the variable \"myFavouriteBand\" from the previous example to demonstrate an example of a local variable \n",
    "\n",
    "del myFavouriteBand\n",
    "\n",
    "# Example of local variable\n",
    "\n",
    "def getBandRating(bandname):\n",
    "    myFavouriteBand = \"AC/DC\"\n",
    "    if bandname == myFavouriteBand:\n",
    "        return 10.0\n",
    "    else:\n",
    "        return 0.0\n",
    "\n",
    "print(\"AC/DC's rating is: \", getBandRating(\"AC/DC\"))\n",
    "print(\"Deep Purple's rating is: \", getBandRating(\"Deep Purple\"))\n",
    "print(\"My favourite band is\", myFavouriteBand)"
   ]
  },
  {
   "cell_type": "code",
   "execution_count": 44,
   "id": "0c5f50b3-d2f0-49ed-a73d-42c942b68fb1",
   "metadata": {},
   "outputs": [
    {
     "name": "stdout",
     "output_type": "stream",
     "text": [
      "AC/DC's rating is: 0.0\n",
      "Deep Purple's rating is:  10.0\n",
      "My favourite band is: AC/DC\n"
     ]
    }
   ],
   "source": [
    "# Example of global variable and local variable with the same name\n",
    "\n",
    "myFavouriteBand = \"AC/DC\"\n",
    "\n",
    "def getBandRating(bandname):\n",
    "    myFavouriteBand = \"Deep Purple\"\n",
    "    if bandname == myFavouriteBand:\n",
    "        return 10.0\n",
    "    else:\n",
    "        return 0.0\n",
    "\n",
    "print(\"AC/DC's rating is:\",getBandRating(\"AC/DC\"))\n",
    "print(\"Deep Purple's rating is: \",getBandRating(\"Deep Purple\"))\n",
    "print(\"My favourite band is:\",myFavouriteBand)"
   ]
  },
  {
   "cell_type": "code",
   "execution_count": null,
   "id": "c9f385c8-c5d1-4d2b-b7af-f8fdbad1e2ba",
   "metadata": {},
   "outputs": [],
   "source": []
  }
 ],
 "metadata": {
  "kernelspec": {
   "display_name": "Python",
   "language": "python",
   "name": "conda-env-python-py"
  },
  "language_info": {
   "codemirror_mode": {
    "name": "ipython",
    "version": 3
   },
   "file_extension": ".py",
   "mimetype": "text/x-python",
   "name": "python",
   "nbconvert_exporter": "python",
   "pygments_lexer": "ipython3",
   "version": "3.6.13"
  }
 },
 "nbformat": 4,
 "nbformat_minor": 5
}
